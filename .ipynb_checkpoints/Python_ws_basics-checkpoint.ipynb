{
 "cells": [
  {
   "cell_type": "code",
   "execution_count": 2,
   "id": "af1a9e9f",
   "metadata": {},
   "outputs": [
    {
     "name": "stdout",
     "output_type": "stream",
     "text": [
      "Welcome to python world!\n"
     ]
    }
   ],
   "source": [
    "print(\"Welcome to python world!\")"
   ]
  },
  {
   "cell_type": "code",
   "execution_count": 27,
   "id": "a459d19e",
   "metadata": {},
   "outputs": [
    {
     "name": "stdout",
     "output_type": "stream",
     "text": [
      "*****\n",
      "*   *\n",
      "*   *\n",
      "*   *\n",
      "*****\n"
     ]
    }
   ],
   "source": [
    "for i in range(5):\n",
    "    if(i==0 or i==4):\n",
    "        print(\"*\"*5)\n",
    "    else:\n",
    "        print(\"*\",\" \"*1,\"*\")\n",
    "        \n",
    "        \n",
    "            "
   ]
  },
  {
   "cell_type": "code",
   "execution_count": 29,
   "id": "f6a57bbe",
   "metadata": {},
   "outputs": [
    {
     "name": "stdout",
     "output_type": "stream",
     "text": [
      "*******\n",
      "*     *\n",
      "*     *\n",
      "*     *\n",
      "*     *\n",
      "*******\n"
     ]
    }
   ],
   "source": [
    "print(\"*******\")\n",
    "print(\"*\",\" \"*3,\"*\")\n",
    "print(\"*\",\" \"*3,\"*\")\n",
    "print(\"*\",\" \"*3,\"*\")\n",
    "print(\"*\",\" \"*3,\"*\")\n",
    "print(\"*******\")"
   ]
  },
  {
   "cell_type": "code",
   "execution_count": null,
   "id": "d7a301e1",
   "metadata": {},
   "outputs": [],
   "source": [
    "num = int(input(\"Enter the num: \"))\n",
    "for i in range(1,11):\n",
    "    print(f\"{num} * {i} = {num*i}\")"
   ]
  },
  {
   "cell_type": "code",
   "execution_count": null,
   "id": "e91a01b8",
   "metadata": {},
   "outputs": [],
   "source": [
    "num = int(input(\"Enter the num: \"))\n",
    "if num%2==0:\n",
    "    print(f\"{num} is even\")\n",
    "else: \n",
    "    print(f\"{num} is odd\")"
   ]
  },
  {
   "cell_type": "code",
   "execution_count": null,
   "id": "ced6e978",
   "metadata": {},
   "outputs": [],
   "source": []
  }
 ],
 "metadata": {
  "kernelspec": {
   "display_name": "Python 3 (ipykernel)",
   "language": "python",
   "name": "python3"
  },
  "language_info": {
   "codemirror_mode": {
    "name": "ipython",
    "version": 3
   },
   "file_extension": ".py",
   "mimetype": "text/x-python",
   "name": "python",
   "nbconvert_exporter": "python",
   "pygments_lexer": "ipython3",
   "version": "3.9.7"
  }
 },
 "nbformat": 4,
 "nbformat_minor": 5
}
