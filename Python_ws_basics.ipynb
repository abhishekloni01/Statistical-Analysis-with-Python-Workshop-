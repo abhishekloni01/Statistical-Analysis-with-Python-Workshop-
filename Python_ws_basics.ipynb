{
 "cells": [
  {
   "cell_type": "code",
   "execution_count": 2,
   "id": "af1a9e9f",
   "metadata": {},
   "outputs": [
    {
     "name": "stdout",
     "output_type": "stream",
     "text": [
      "Welcome to python world!\n"
     ]
    }
   ],
   "source": [
    "print(\"Welcome to python world!\")"
   ]
  },
  {
   "cell_type": "code",
   "execution_count": 27,
   "id": "a459d19e",
   "metadata": {},
   "outputs": [
    {
     "name": "stdout",
     "output_type": "stream",
     "text": [
      "*****\n",
      "*   *\n",
      "*   *\n",
      "*   *\n",
      "*****\n"
     ]
    }
   ],
   "source": [
    "for i in range(5):\n",
    "    if(i==0 or i==4):\n",
    "        print(\"*\"*5)\n",
    "    else:\n",
    "        print(\"*\",\" \"*1,\"*\")\n",
    "        \n",
    "        \n",
    "            "
   ]
  },
  {
   "cell_type": "code",
   "execution_count": 29,
   "id": "f6a57bbe",
   "metadata": {},
   "outputs": [
    {
     "name": "stdout",
     "output_type": "stream",
     "text": [
      "*******\n",
      "*     *\n",
      "*     *\n",
      "*     *\n",
      "*     *\n",
      "*******\n"
     ]
    }
   ],
   "source": [
    "print(\"*******\")\n",
    "print(\"*\",\" \"*3,\"*\")\n",
    "print(\"*\",\" \"*3,\"*\")\n",
    "print(\"*\",\" \"*3,\"*\")\n",
    "print(\"*\",\" \"*3,\"*\")\n",
    "print(\"*******\")"
   ]
  },
  {
   "cell_type": "code",
   "execution_count": null,
   "id": "d7a301e1",
   "metadata": {},
   "outputs": [],
   "source": [
    "num = int(input(\"Enter the num: \"))\n",
    "for i in range(1,11):\n",
    "    print(f\"{num} * {i} = {num*i}\")"
   ]
  },
  {
   "cell_type": "code",
   "execution_count": null,
   "id": "e91a01b8",
   "metadata": {},
   "outputs": [],
   "source": [
    "num = int(input(\"Enter the num: \"))\n",
    "if num%2==0:\n",
    "    print(f\"{num} is even\")\n",
    "else: \n",
    "    print(f\"{num} is odd\")"
   ]
  },
  {
   "cell_type": "code",
   "execution_count": 4,
   "id": "ced6e978",
   "metadata": {},
   "outputs": [
    {
     "data": {
      "text/plain": [
       "[1, 2, 3, 4, 5, 6, 7, 8, 9, 10]"
      ]
     },
     "execution_count": 4,
     "metadata": {},
     "output_type": "execute_result"
    }
   ],
   "source": [
    "lst1 = [1,2,3,4,5]\n",
    "lst2 = [6,7,8,9,10]\n",
    "lst1.extend(lst2)\n",
    "lst1"
   ]
  },
  {
   "cell_type": "code",
   "execution_count": 7,
   "id": "20b05b0c",
   "metadata": {},
   "outputs": [
    {
     "name": "stdout",
     "output_type": "stream",
     "text": [
      "[3, 6, 9]\n"
     ]
    }
   ],
   "source": [
    "lst3 = []\n",
    "for i in lst1:\n",
    "    if i%3==0:\n",
    "        lst3.append(i)\n",
    "print(lst3)"
   ]
  },
  {
   "cell_type": "code",
   "execution_count": 13,
   "id": "c96f48fd",
   "metadata": {},
   "outputs": [
    {
     "name": "stdout",
     "output_type": "stream",
     "text": [
      "{'Java': 3, 'Python': 2, '.Net': 1, 'CPP': 1, 'C': 2}\n"
     ]
    }
   ],
   "source": [
    "lst = \"Java,Python,Java,Python,.Net,CPP,C,C,Java\".split(\",\")\n",
    "# dct = {\"Java\":3,\"Python\":4,\"C\":2}\n",
    "# keys = dct.keys()\n",
    "# dct[\"Java\"] = 5\n",
    "# print(dct['Java'])\n",
    "\n",
    "\n",
    "new_dct = {}\n",
    "for i in lst:\n",
    "    if i in new_dct:\n",
    "        new_dct[i]+=1\n",
    "    else:\n",
    "        new_dct[i]=1\n",
    "print(new_dct)\n",
    "    "
   ]
  },
  {
   "cell_type": "code",
   "execution_count": 19,
   "id": "7ed0feb2",
   "metadata": {},
   "outputs": [
    {
     "name": "stdout",
     "output_type": "stream",
     "text": [
      "[2, 3, 5, 7, 11, 13, 17, 19, 23, 29]\n"
     ]
    }
   ],
   "source": [
    "def isPrime(num):\n",
    "    if num<2:\n",
    "        return False\n",
    "    if num%2==0 and num!=2:\n",
    "        return False\n",
    "    for i in range(2,num//2+1):\n",
    "        if num%i==0:\n",
    "            return False\n",
    "    return True\n",
    "\n",
    "def generatePrime(n):\n",
    "    lst = []\n",
    "    i = 2\n",
    "    while len(lst)!=n:\n",
    "        if isPrime(i):\n",
    "            lst.append(i)\n",
    "        i = i+1\n",
    "    return lst\n",
    "\n",
    "lst = generatePrime(10)\n",
    "print(lst)"
   ]
  },
  {
   "cell_type": "code",
   "execution_count": null,
   "id": "ed31d06d",
   "metadata": {},
   "outputs": [],
   "source": []
  },
  {
   "cell_type": "code",
   "execution_count": 17,
   "id": "ab1be391",
   "metadata": {},
   "outputs": [
    {
     "name": "stdout",
     "output_type": "stream",
     "text": [
      "5\n"
     ]
    }
   ],
   "source": [
    "add = lambda a,b : a+b\n",
    "print(add(2,3))"
   ]
  },
  {
   "cell_type": "code",
   "execution_count": 15,
   "id": "6d6b1a5b",
   "metadata": {},
   "outputs": [
    {
     "name": "stdout",
     "output_type": "stream",
     "text": [
      "4\n"
     ]
    }
   ],
   "source": [
    "def res(a,b,f):\n",
    "    return f(a,b)\n",
    "\n",
    "print(res(1,3,lambda a,b: a+b))"
   ]
  }
 ],
 "metadata": {
  "kernelspec": {
   "display_name": "Python 3 (ipykernel)",
   "language": "python",
   "name": "python3"
  },
  "language_info": {
   "codemirror_mode": {
    "name": "ipython",
    "version": 3
   },
   "file_extension": ".py",
   "mimetype": "text/x-python",
   "name": "python",
   "nbconvert_exporter": "python",
   "pygments_lexer": "ipython3",
   "version": "3.9.7"
  }
 },
 "nbformat": 4,
 "nbformat_minor": 5
}
